{
 "cells": [
  {
   "cell_type": "markdown",
   "id": "4e1852dc",
   "metadata": {
    "papermill": {
     "duration": 0.016508,
     "end_time": "2023-06-23T18:24:45.139549",
     "exception": false,
     "start_time": "2023-06-23T18:24:45.123041",
     "status": "completed"
    },
    "tags": []
   },
   "source": [
    "# What is Numpy\n",
    "\n",
    "* NumPy stands for Numerical Python.\n",
    "* NumPy is a Python library used for working with arrays.\n",
    "* It also has functions for working in domain of linear algebra, fourier transform, and matrices."
   ]
  },
  {
   "cell_type": "markdown",
   "id": "87c23db2",
   "metadata": {
    "papermill": {
     "duration": 0.016024,
     "end_time": "2023-06-23T18:24:45.172033",
     "exception": false,
     "start_time": "2023-06-23T18:24:45.156009",
     "status": "completed"
    },
    "tags": []
   },
   "source": [
    "# Why use Numpy?\n",
    "\n",
    "* NumPy uses much less memory to store data\n",
    "* It is Fast\n",
    "* Mathematical operations on NumPy are easy to perform\n",
    "* It works very well with SciPy and other Libraries\n",
    "* It has lots of built-in functions\n",
    "* It has universal functions"
   ]
  },
  {
   "cell_type": "markdown",
   "id": "a65af3a1",
   "metadata": {
    "papermill": {
     "duration": 0.015924,
     "end_time": "2023-06-23T18:24:45.204530",
     "exception": false,
     "start_time": "2023-06-23T18:24:45.188606",
     "status": "completed"
    },
    "tags": []
   },
   "source": [
    "# Features of Numpy-\n",
    "\n",
    "* NumPy stands on CPython, a non optimizing bytecode interpreter.\n",
    "* Multidimensional arrays.\n",
    "* Functions & operators for these arrays\n",
    "* Python alternatives to MATLAB.\n",
    "* ndarray- n-dimensional arrays.\n",
    "* Fourier transforms & shapes manipulation.\n",
    "* Linear algebra & random number generation."
   ]
  },
  {
   "cell_type": "markdown",
   "id": "ee5a3afa",
   "metadata": {
    "papermill": {
     "duration": 0.015711,
     "end_time": "2023-06-23T18:24:45.237552",
     "exception": false,
     "start_time": "2023-06-23T18:24:45.221841",
     "status": "completed"
    },
    "tags": []
   },
   "source": [
    "# Import Numpy\n",
    "\n",
    "The import numpy statement is used to import the NumPy library in Python.To import NumPy in Python, you can use the following statement:"
   ]
  },
  {
   "cell_type": "code",
   "execution_count": 1,
   "id": "8d8b3374",
   "metadata": {
    "execution": {
     "iopub.execute_input": "2023-06-23T18:24:45.271232Z",
     "iopub.status.busy": "2023-06-23T18:24:45.270590Z",
     "iopub.status.idle": "2023-06-23T18:24:45.279467Z",
     "shell.execute_reply": "2023-06-23T18:24:45.278489Z"
    },
    "papermill": {
     "duration": 0.028184,
     "end_time": "2023-06-23T18:24:45.281569",
     "exception": false,
     "start_time": "2023-06-23T18:24:45.253385",
     "status": "completed"
    },
    "tags": []
   },
   "outputs": [],
   "source": [
    "import numpy as np"
   ]
  },
  {
   "cell_type": "markdown",
   "id": "72cc4772",
   "metadata": {
    "papermill": {
     "duration": 0.01563,
     "end_time": "2023-06-23T18:24:45.313155",
     "exception": false,
     "start_time": "2023-06-23T18:24:45.297525",
     "status": "completed"
    },
    "tags": []
   },
   "source": [
    "# Array Creation\n",
    "\n",
    "1. numpy.array: Create a NumPy array from a Python list or tuple.\n",
    "1. numpy.zeros: Create an array filled with zeros.\n",
    "1. numpy.ones:  Create an array filled with ones.\n",
    "1. numpy.empty: Create an uninitialized array.\n",
    "1. numpy.arange:Create an array with regularly spaced values.\n"
   ]
  },
  {
   "cell_type": "code",
   "execution_count": 2,
   "id": "6c374b50",
   "metadata": {
    "execution": {
     "iopub.execute_input": "2023-06-23T18:24:45.346184Z",
     "iopub.status.busy": "2023-06-23T18:24:45.345800Z",
     "iopub.status.idle": "2023-06-23T18:24:45.350165Z",
     "shell.execute_reply": "2023-06-23T18:24:45.349455Z"
    },
    "papermill": {
     "duration": 0.023045,
     "end_time": "2023-06-23T18:24:45.351963",
     "exception": false,
     "start_time": "2023-06-23T18:24:45.328918",
     "status": "completed"
    },
    "tags": []
   },
   "outputs": [],
   "source": [
    "array1 = np.array([1, 2, 3], dtype = 'int')"
   ]
  },
  {
   "cell_type": "code",
   "execution_count": 3,
   "id": "3f6c7a6e",
   "metadata": {
    "execution": {
     "iopub.execute_input": "2023-06-23T18:24:45.386190Z",
     "iopub.status.busy": "2023-06-23T18:24:45.385275Z",
     "iopub.status.idle": "2023-06-23T18:24:45.393306Z",
     "shell.execute_reply": "2023-06-23T18:24:45.392581Z"
    },
    "papermill": {
     "duration": 0.02685,
     "end_time": "2023-06-23T18:24:45.395146",
     "exception": false,
     "start_time": "2023-06-23T18:24:45.368296",
     "status": "completed"
    },
    "tags": []
   },
   "outputs": [
    {
     "data": {
      "text/plain": [
       "array([1, 2, 3])"
      ]
     },
     "execution_count": 3,
     "metadata": {},
     "output_type": "execute_result"
    }
   ],
   "source": [
    "array1"
   ]
  },
  {
   "cell_type": "code",
   "execution_count": 4,
   "id": "2572d84b",
   "metadata": {
    "execution": {
     "iopub.execute_input": "2023-06-23T18:24:45.429654Z",
     "iopub.status.busy": "2023-06-23T18:24:45.429248Z",
     "iopub.status.idle": "2023-06-23T18:24:45.434007Z",
     "shell.execute_reply": "2023-06-23T18:24:45.432844Z"
    },
    "papermill": {
     "duration": 0.024212,
     "end_time": "2023-06-23T18:24:45.436093",
     "exception": false,
     "start_time": "2023-06-23T18:24:45.411881",
     "status": "completed"
    },
    "tags": []
   },
   "outputs": [],
   "source": [
    "zeros = np.zeros((3, 3), dtype = 'int')  # Return a new array of given shape and type, filled with zeros"
   ]
  },
  {
   "cell_type": "code",
   "execution_count": 5,
   "id": "1071ae84",
   "metadata": {
    "execution": {
     "iopub.execute_input": "2023-06-23T18:24:45.470846Z",
     "iopub.status.busy": "2023-06-23T18:24:45.469809Z",
     "iopub.status.idle": "2023-06-23T18:24:45.475759Z",
     "shell.execute_reply": "2023-06-23T18:24:45.474999Z"
    },
    "papermill": {
     "duration": 0.025246,
     "end_time": "2023-06-23T18:24:45.477596",
     "exception": false,
     "start_time": "2023-06-23T18:24:45.452350",
     "status": "completed"
    },
    "tags": []
   },
   "outputs": [
    {
     "data": {
      "text/plain": [
       "array([[0, 0, 0],\n",
       "       [0, 0, 0],\n",
       "       [0, 0, 0]])"
      ]
     },
     "execution_count": 5,
     "metadata": {},
     "output_type": "execute_result"
    }
   ],
   "source": [
    "zeros"
   ]
  },
  {
   "cell_type": "code",
   "execution_count": 6,
   "id": "b7e2aae7",
   "metadata": {
    "execution": {
     "iopub.execute_input": "2023-06-23T18:24:45.511731Z",
     "iopub.status.busy": "2023-06-23T18:24:45.511067Z",
     "iopub.status.idle": "2023-06-23T18:24:45.516495Z",
     "shell.execute_reply": "2023-06-23T18:24:45.515395Z"
    },
    "papermill": {
     "duration": 0.024988,
     "end_time": "2023-06-23T18:24:45.518689",
     "exception": false,
     "start_time": "2023-06-23T18:24:45.493701",
     "status": "completed"
    },
    "tags": []
   },
   "outputs": [],
   "source": [
    "ones = np.ones((3, 3), dtype = 'int') # Return a new array of given shape and type, filled with ones"
   ]
  },
  {
   "cell_type": "code",
   "execution_count": 7,
   "id": "c65c1a25",
   "metadata": {
    "execution": {
     "iopub.execute_input": "2023-06-23T18:24:45.553047Z",
     "iopub.status.busy": "2023-06-23T18:24:45.552656Z",
     "iopub.status.idle": "2023-06-23T18:24:45.559191Z",
     "shell.execute_reply": "2023-06-23T18:24:45.558211Z"
    },
    "papermill": {
     "duration": 0.026176,
     "end_time": "2023-06-23T18:24:45.561280",
     "exception": false,
     "start_time": "2023-06-23T18:24:45.535104",
     "status": "completed"
    },
    "tags": []
   },
   "outputs": [
    {
     "data": {
      "text/plain": [
       "array([[1, 1, 1],\n",
       "       [1, 1, 1],\n",
       "       [1, 1, 1]])"
      ]
     },
     "execution_count": 7,
     "metadata": {},
     "output_type": "execute_result"
    }
   ],
   "source": [
    "ones"
   ]
  },
  {
   "cell_type": "code",
   "execution_count": 8,
   "id": "c5a59a54",
   "metadata": {
    "execution": {
     "iopub.execute_input": "2023-06-23T18:24:45.595726Z",
     "iopub.status.busy": "2023-06-23T18:24:45.595339Z",
     "iopub.status.idle": "2023-06-23T18:24:45.600274Z",
     "shell.execute_reply": "2023-06-23T18:24:45.599350Z"
    },
    "papermill": {
     "duration": 0.024462,
     "end_time": "2023-06-23T18:24:45.602386",
     "exception": false,
     "start_time": "2023-06-23T18:24:45.577924",
     "status": "completed"
    },
    "tags": []
   },
   "outputs": [],
   "source": [
    "full = np.full((2,3), 5) # Return a new array of given shape and type, filled with given value"
   ]
  },
  {
   "cell_type": "code",
   "execution_count": 9,
   "id": "c2209e1c",
   "metadata": {
    "execution": {
     "iopub.execute_input": "2023-06-23T18:24:45.636645Z",
     "iopub.status.busy": "2023-06-23T18:24:45.636046Z",
     "iopub.status.idle": "2023-06-23T18:24:45.642839Z",
     "shell.execute_reply": "2023-06-23T18:24:45.641826Z"
    },
    "papermill": {
     "duration": 0.025951,
     "end_time": "2023-06-23T18:24:45.644812",
     "exception": false,
     "start_time": "2023-06-23T18:24:45.618861",
     "status": "completed"
    },
    "tags": []
   },
   "outputs": [
    {
     "data": {
      "text/plain": [
       "array([[5, 5, 5],\n",
       "       [5, 5, 5]])"
      ]
     },
     "execution_count": 9,
     "metadata": {},
     "output_type": "execute_result"
    }
   ],
   "source": [
    "full"
   ]
  },
  {
   "cell_type": "code",
   "execution_count": 10,
   "id": "53745af4",
   "metadata": {
    "execution": {
     "iopub.execute_input": "2023-06-23T18:24:45.679212Z",
     "iopub.status.busy": "2023-06-23T18:24:45.678862Z",
     "iopub.status.idle": "2023-06-23T18:24:45.683099Z",
     "shell.execute_reply": "2023-06-23T18:24:45.682029Z"
    },
    "papermill": {
     "duration": 0.024139,
     "end_time": "2023-06-23T18:24:45.685234",
     "exception": false,
     "start_time": "2023-06-23T18:24:45.661095",
     "status": "completed"
    },
    "tags": []
   },
   "outputs": [],
   "source": [
    "identity = np.identity(3, dtype = 'int') # Return the identity array."
   ]
  },
  {
   "cell_type": "code",
   "execution_count": 11,
   "id": "cf31f184",
   "metadata": {
    "execution": {
     "iopub.execute_input": "2023-06-23T18:24:45.720771Z",
     "iopub.status.busy": "2023-06-23T18:24:45.720390Z",
     "iopub.status.idle": "2023-06-23T18:24:45.726340Z",
     "shell.execute_reply": "2023-06-23T18:24:45.725289Z"
    },
    "papermill": {
     "duration": 0.026788,
     "end_time": "2023-06-23T18:24:45.728526",
     "exception": false,
     "start_time": "2023-06-23T18:24:45.701738",
     "status": "completed"
    },
    "tags": []
   },
   "outputs": [
    {
     "data": {
      "text/plain": [
       "array([[1, 0, 0],\n",
       "       [0, 1, 0],\n",
       "       [0, 0, 1]])"
      ]
     },
     "execution_count": 11,
     "metadata": {},
     "output_type": "execute_result"
    }
   ],
   "source": [
    "identity"
   ]
  },
  {
   "cell_type": "code",
   "execution_count": 12,
   "id": "2a075c25",
   "metadata": {
    "execution": {
     "iopub.execute_input": "2023-06-23T18:24:45.763415Z",
     "iopub.status.busy": "2023-06-23T18:24:45.763065Z",
     "iopub.status.idle": "2023-06-23T18:24:45.767644Z",
     "shell.execute_reply": "2023-06-23T18:24:45.766630Z"
    },
    "papermill": {
     "duration": 0.024479,
     "end_time": "2023-06-23T18:24:45.769755",
     "exception": false,
     "start_time": "2023-06-23T18:24:45.745276",
     "status": "completed"
    },
    "tags": []
   },
   "outputs": [],
   "source": [
    "arange = np.arange(1, 10, 2) # Return evenly spaced values within a given interval."
   ]
  },
  {
   "cell_type": "code",
   "execution_count": 13,
   "id": "364d8daf",
   "metadata": {
    "execution": {
     "iopub.execute_input": "2023-06-23T18:24:45.804147Z",
     "iopub.status.busy": "2023-06-23T18:24:45.803767Z",
     "iopub.status.idle": "2023-06-23T18:24:45.809913Z",
     "shell.execute_reply": "2023-06-23T18:24:45.809123Z"
    },
    "papermill": {
     "duration": 0.025802,
     "end_time": "2023-06-23T18:24:45.811944",
     "exception": false,
     "start_time": "2023-06-23T18:24:45.786142",
     "status": "completed"
    },
    "tags": []
   },
   "outputs": [
    {
     "data": {
      "text/plain": [
       "array([1, 3, 5, 7, 9])"
      ]
     },
     "execution_count": 13,
     "metadata": {},
     "output_type": "execute_result"
    }
   ],
   "source": [
    "arange"
   ]
  },
  {
   "cell_type": "code",
   "execution_count": 14,
   "id": "1aa732e8",
   "metadata": {
    "execution": {
     "iopub.execute_input": "2023-06-23T18:24:45.847096Z",
     "iopub.status.busy": "2023-06-23T18:24:45.846735Z",
     "iopub.status.idle": "2023-06-23T18:24:45.850844Z",
     "shell.execute_reply": "2023-06-23T18:24:45.850022Z"
    },
    "papermill": {
     "duration": 0.024271,
     "end_time": "2023-06-23T18:24:45.852869",
     "exception": false,
     "start_time": "2023-06-23T18:24:45.828598",
     "status": "completed"
    },
    "tags": []
   },
   "outputs": [],
   "source": [
    "empty = np.empty((1,5)) # Return a new array of given shape and type, without initializing entries."
   ]
  },
  {
   "cell_type": "code",
   "execution_count": 15,
   "id": "7390e6fe",
   "metadata": {
    "execution": {
     "iopub.execute_input": "2023-06-23T18:24:45.889202Z",
     "iopub.status.busy": "2023-06-23T18:24:45.888805Z",
     "iopub.status.idle": "2023-06-23T18:24:45.894695Z",
     "shell.execute_reply": "2023-06-23T18:24:45.893941Z"
    },
    "papermill": {
     "duration": 0.026381,
     "end_time": "2023-06-23T18:24:45.896576",
     "exception": false,
     "start_time": "2023-06-23T18:24:45.870195",
     "status": "completed"
    },
    "tags": []
   },
   "outputs": [
    {
     "data": {
      "text/plain": [
       "array([[1., 1., 1., 1., 1.]])"
      ]
     },
     "execution_count": 15,
     "metadata": {},
     "output_type": "execute_result"
    }
   ],
   "source": [
    "empty"
   ]
  },
  {
   "cell_type": "markdown",
   "id": "767a63b2",
   "metadata": {
    "papermill": {
     "duration": 0.016438,
     "end_time": "2023-06-23T18:24:45.930202",
     "exception": false,
     "start_time": "2023-06-23T18:24:45.913764",
     "status": "completed"
    },
    "tags": []
   },
   "source": [
    "# Array Atrributes\n",
    "\n",
    "\n",
    "* ndarray.shape: Get the dimensions of an array.\n",
    "* ndarray.dtype: Get the data type of the elements in an array.\n",
    "* ndarray.ndim: Get the number of dimensions in an array.\n",
    "* ndarray.size: Get the total number of elements in an array.\n",
    "* ndarray.itemsize: Get the size in bytes of each element in an array."
   ]
  },
  {
   "cell_type": "code",
   "execution_count": 16,
   "id": "747a4afd",
   "metadata": {
    "execution": {
     "iopub.execute_input": "2023-06-23T18:24:45.965165Z",
     "iopub.status.busy": "2023-06-23T18:24:45.964821Z",
     "iopub.status.idle": "2023-06-23T18:24:45.969041Z",
     "shell.execute_reply": "2023-06-23T18:24:45.968035Z"
    },
    "papermill": {
     "duration": 0.024561,
     "end_time": "2023-06-23T18:24:45.971359",
     "exception": false,
     "start_time": "2023-06-23T18:24:45.946798",
     "status": "completed"
    },
    "tags": []
   },
   "outputs": [],
   "source": [
    "a = np.array([1,2,3])"
   ]
  },
  {
   "cell_type": "code",
   "execution_count": 17,
   "id": "eb4ae2f5",
   "metadata": {
    "execution": {
     "iopub.execute_input": "2023-06-23T18:24:46.006895Z",
     "iopub.status.busy": "2023-06-23T18:24:46.006055Z",
     "iopub.status.idle": "2023-06-23T18:24:46.012896Z",
     "shell.execute_reply": "2023-06-23T18:24:46.012094Z"
    },
    "papermill": {
     "duration": 0.026929,
     "end_time": "2023-06-23T18:24:46.014954",
     "exception": false,
     "start_time": "2023-06-23T18:24:45.988025",
     "status": "completed"
    },
    "tags": []
   },
   "outputs": [
    {
     "data": {
      "text/plain": [
       "array([1, 2, 3])"
      ]
     },
     "execution_count": 17,
     "metadata": {},
     "output_type": "execute_result"
    }
   ],
   "source": [
    "a"
   ]
  },
  {
   "cell_type": "code",
   "execution_count": 18,
   "id": "2775c6eb",
   "metadata": {
    "execution": {
     "iopub.execute_input": "2023-06-23T18:24:46.051182Z",
     "iopub.status.busy": "2023-06-23T18:24:46.050353Z",
     "iopub.status.idle": "2023-06-23T18:24:46.056862Z",
     "shell.execute_reply": "2023-06-23T18:24:46.055876Z"
    },
    "papermill": {
     "duration": 0.02715,
     "end_time": "2023-06-23T18:24:46.058926",
     "exception": false,
     "start_time": "2023-06-23T18:24:46.031776",
     "status": "completed"
    },
    "tags": []
   },
   "outputs": [
    {
     "data": {
      "text/plain": [
       "numpy.ndarray"
      ]
     },
     "execution_count": 18,
     "metadata": {},
     "output_type": "execute_result"
    }
   ],
   "source": [
    "type(a)"
   ]
  },
  {
   "cell_type": "code",
   "execution_count": 19,
   "id": "4733ad9f",
   "metadata": {
    "execution": {
     "iopub.execute_input": "2023-06-23T18:24:46.094366Z",
     "iopub.status.busy": "2023-06-23T18:24:46.094002Z",
     "iopub.status.idle": "2023-06-23T18:24:46.100107Z",
     "shell.execute_reply": "2023-06-23T18:24:46.099042Z"
    },
    "papermill": {
     "duration": 0.026356,
     "end_time": "2023-06-23T18:24:46.102200",
     "exception": false,
     "start_time": "2023-06-23T18:24:46.075844",
     "status": "completed"
    },
    "tags": []
   },
   "outputs": [
    {
     "data": {
      "text/plain": [
       "(3,)"
      ]
     },
     "execution_count": 19,
     "metadata": {},
     "output_type": "execute_result"
    }
   ],
   "source": [
    "a.shape"
   ]
  },
  {
   "cell_type": "code",
   "execution_count": 20,
   "id": "a73372aa",
   "metadata": {
    "execution": {
     "iopub.execute_input": "2023-06-23T18:24:46.138771Z",
     "iopub.status.busy": "2023-06-23T18:24:46.137877Z",
     "iopub.status.idle": "2023-06-23T18:24:46.144162Z",
     "shell.execute_reply": "2023-06-23T18:24:46.143150Z"
    },
    "papermill": {
     "duration": 0.026925,
     "end_time": "2023-06-23T18:24:46.146147",
     "exception": false,
     "start_time": "2023-06-23T18:24:46.119222",
     "status": "completed"
    },
    "tags": []
   },
   "outputs": [
    {
     "data": {
      "text/plain": [
       "1"
      ]
     },
     "execution_count": 20,
     "metadata": {},
     "output_type": "execute_result"
    }
   ],
   "source": [
    "a.ndim"
   ]
  },
  {
   "cell_type": "code",
   "execution_count": 21,
   "id": "d68a4771",
   "metadata": {
    "execution": {
     "iopub.execute_input": "2023-06-23T18:24:46.182988Z",
     "iopub.status.busy": "2023-06-23T18:24:46.182058Z",
     "iopub.status.idle": "2023-06-23T18:24:46.187835Z",
     "shell.execute_reply": "2023-06-23T18:24:46.187139Z"
    },
    "papermill": {
     "duration": 0.026417,
     "end_time": "2023-06-23T18:24:46.189673",
     "exception": false,
     "start_time": "2023-06-23T18:24:46.163256",
     "status": "completed"
    },
    "tags": []
   },
   "outputs": [
    {
     "data": {
      "text/plain": [
       "dtype('int64')"
      ]
     },
     "execution_count": 21,
     "metadata": {},
     "output_type": "execute_result"
    }
   ],
   "source": [
    "a.dtype"
   ]
  },
  {
   "cell_type": "code",
   "execution_count": 22,
   "id": "54c0f212",
   "metadata": {
    "execution": {
     "iopub.execute_input": "2023-06-23T18:24:46.227914Z",
     "iopub.status.busy": "2023-06-23T18:24:46.226911Z",
     "iopub.status.idle": "2023-06-23T18:24:46.232303Z",
     "shell.execute_reply": "2023-06-23T18:24:46.231662Z"
    },
    "papermill": {
     "duration": 0.027273,
     "end_time": "2023-06-23T18:24:46.234130",
     "exception": false,
     "start_time": "2023-06-23T18:24:46.206857",
     "status": "completed"
    },
    "tags": []
   },
   "outputs": [
    {
     "data": {
      "text/plain": [
       "3"
      ]
     },
     "execution_count": 22,
     "metadata": {},
     "output_type": "execute_result"
    }
   ],
   "source": [
    "a.size"
   ]
  },
  {
   "cell_type": "code",
   "execution_count": 23,
   "id": "06ae518c",
   "metadata": {
    "execution": {
     "iopub.execute_input": "2023-06-23T18:24:46.270455Z",
     "iopub.status.busy": "2023-06-23T18:24:46.270037Z",
     "iopub.status.idle": "2023-06-23T18:24:46.276570Z",
     "shell.execute_reply": "2023-06-23T18:24:46.275475Z"
    },
    "papermill": {
     "duration": 0.027505,
     "end_time": "2023-06-23T18:24:46.278899",
     "exception": false,
     "start_time": "2023-06-23T18:24:46.251394",
     "status": "completed"
    },
    "tags": []
   },
   "outputs": [
    {
     "data": {
      "text/plain": [
       "8"
      ]
     },
     "execution_count": 23,
     "metadata": {},
     "output_type": "execute_result"
    }
   ],
   "source": [
    "a.itemsize"
   ]
  },
  {
   "cell_type": "markdown",
   "id": "6b9f91a9",
   "metadata": {
    "papermill": {
     "duration": 0.01722,
     "end_time": "2023-06-23T18:24:46.313948",
     "exception": false,
     "start_time": "2023-06-23T18:24:46.296728",
     "status": "completed"
    },
    "tags": []
   },
   "source": [
    "# Array indexing and Slicing"
   ]
  },
  {
   "cell_type": "markdown",
   "id": "f1413895",
   "metadata": {
    "papermill": {
     "duration": 0.016965,
     "end_time": "2023-06-23T18:24:46.348532",
     "exception": false,
     "start_time": "2023-06-23T18:24:46.331567",
     "status": "completed"
    },
    "tags": []
   },
   "source": [
    "**Indexing**\n",
    "\n",
    "Indexing: Access individual elements in an array using indexing, similar to regular Python lists.\n"
   ]
  },
  {
   "cell_type": "code",
   "execution_count": 24,
   "id": "7e813502",
   "metadata": {
    "execution": {
     "iopub.execute_input": "2023-06-23T18:24:46.385101Z",
     "iopub.status.busy": "2023-06-23T18:24:46.384711Z",
     "iopub.status.idle": "2023-06-23T18:24:46.389900Z",
     "shell.execute_reply": "2023-06-23T18:24:46.388776Z"
    },
    "papermill": {
     "duration": 0.026513,
     "end_time": "2023-06-23T18:24:46.392399",
     "exception": false,
     "start_time": "2023-06-23T18:24:46.365886",
     "status": "completed"
    },
    "tags": []
   },
   "outputs": [],
   "source": [
    "a = np.array([1,2,3,4,5,6])"
   ]
  },
  {
   "cell_type": "code",
   "execution_count": 25,
   "id": "07798a11",
   "metadata": {
    "execution": {
     "iopub.execute_input": "2023-06-23T18:24:46.429765Z",
     "iopub.status.busy": "2023-06-23T18:24:46.429119Z",
     "iopub.status.idle": "2023-06-23T18:24:46.435280Z",
     "shell.execute_reply": "2023-06-23T18:24:46.434401Z"
    },
    "papermill": {
     "duration": 0.02711,
     "end_time": "2023-06-23T18:24:46.437249",
     "exception": false,
     "start_time": "2023-06-23T18:24:46.410139",
     "status": "completed"
    },
    "tags": []
   },
   "outputs": [
    {
     "data": {
      "text/plain": [
       "array([1, 2, 3, 4, 5, 6])"
      ]
     },
     "execution_count": 25,
     "metadata": {},
     "output_type": "execute_result"
    }
   ],
   "source": [
    "a"
   ]
  },
  {
   "cell_type": "code",
   "execution_count": 26,
   "id": "570f613a",
   "metadata": {
    "execution": {
     "iopub.execute_input": "2023-06-23T18:24:46.474416Z",
     "iopub.status.busy": "2023-06-23T18:24:46.474031Z",
     "iopub.status.idle": "2023-06-23T18:24:46.479660Z",
     "shell.execute_reply": "2023-06-23T18:24:46.478937Z"
    },
    "papermill": {
     "duration": 0.026511,
     "end_time": "2023-06-23T18:24:46.481586",
     "exception": false,
     "start_time": "2023-06-23T18:24:46.455075",
     "status": "completed"
    },
    "tags": []
   },
   "outputs": [
    {
     "data": {
      "text/plain": [
       "2"
      ]
     },
     "execution_count": 26,
     "metadata": {},
     "output_type": "execute_result"
    }
   ],
   "source": [
    "a[1]"
   ]
  },
  {
   "cell_type": "code",
   "execution_count": 27,
   "id": "66ba0933",
   "metadata": {
    "execution": {
     "iopub.execute_input": "2023-06-23T18:24:46.519434Z",
     "iopub.status.busy": "2023-06-23T18:24:46.518681Z",
     "iopub.status.idle": "2023-06-23T18:24:46.524214Z",
     "shell.execute_reply": "2023-06-23T18:24:46.523490Z"
    },
    "papermill": {
     "duration": 0.026598,
     "end_time": "2023-06-23T18:24:46.526191",
     "exception": false,
     "start_time": "2023-06-23T18:24:46.499593",
     "status": "completed"
    },
    "tags": []
   },
   "outputs": [
    {
     "data": {
      "text/plain": [
       "6"
      ]
     },
     "execution_count": 27,
     "metadata": {},
     "output_type": "execute_result"
    }
   ],
   "source": [
    "a[5]"
   ]
  },
  {
   "cell_type": "code",
   "execution_count": 28,
   "id": "8f72f7e5",
   "metadata": {
    "execution": {
     "iopub.execute_input": "2023-06-23T18:24:46.563289Z",
     "iopub.status.busy": "2023-06-23T18:24:46.562911Z",
     "iopub.status.idle": "2023-06-23T18:24:46.569102Z",
     "shell.execute_reply": "2023-06-23T18:24:46.568348Z"
    },
    "papermill": {
     "duration": 0.026894,
     "end_time": "2023-06-23T18:24:46.570977",
     "exception": false,
     "start_time": "2023-06-23T18:24:46.544083",
     "status": "completed"
    },
    "tags": []
   },
   "outputs": [
    {
     "data": {
      "text/plain": [
       "4"
      ]
     },
     "execution_count": 28,
     "metadata": {},
     "output_type": "execute_result"
    }
   ],
   "source": [
    "a[-3]"
   ]
  },
  {
   "cell_type": "code",
   "execution_count": 29,
   "id": "6ffb6847",
   "metadata": {
    "execution": {
     "iopub.execute_input": "2023-06-23T18:24:46.608726Z",
     "iopub.status.busy": "2023-06-23T18:24:46.608054Z",
     "iopub.status.idle": "2023-06-23T18:24:46.613625Z",
     "shell.execute_reply": "2023-06-23T18:24:46.612888Z"
    },
    "papermill": {
     "duration": 0.026879,
     "end_time": "2023-06-23T18:24:46.615709",
     "exception": false,
     "start_time": "2023-06-23T18:24:46.588830",
     "status": "completed"
    },
    "tags": []
   },
   "outputs": [],
   "source": [
    "a2 = np.random.randint(1, 10, size = (3,3))"
   ]
  },
  {
   "cell_type": "code",
   "execution_count": 30,
   "id": "f18c2227",
   "metadata": {
    "execution": {
     "iopub.execute_input": "2023-06-23T18:24:46.653632Z",
     "iopub.status.busy": "2023-06-23T18:24:46.652818Z",
     "iopub.status.idle": "2023-06-23T18:24:46.658459Z",
     "shell.execute_reply": "2023-06-23T18:24:46.657566Z"
    },
    "papermill": {
     "duration": 0.027008,
     "end_time": "2023-06-23T18:24:46.660674",
     "exception": false,
     "start_time": "2023-06-23T18:24:46.633666",
     "status": "completed"
    },
    "tags": []
   },
   "outputs": [
    {
     "data": {
      "text/plain": [
       "array([[5, 1, 9],\n",
       "       [2, 5, 4],\n",
       "       [9, 2, 8]])"
      ]
     },
     "execution_count": 30,
     "metadata": {},
     "output_type": "execute_result"
    }
   ],
   "source": [
    "a2"
   ]
  },
  {
   "cell_type": "code",
   "execution_count": 31,
   "id": "7b744cc9",
   "metadata": {
    "execution": {
     "iopub.execute_input": "2023-06-23T18:24:46.697919Z",
     "iopub.status.busy": "2023-06-23T18:24:46.697543Z",
     "iopub.status.idle": "2023-06-23T18:24:46.703689Z",
     "shell.execute_reply": "2023-06-23T18:24:46.702910Z"
    },
    "papermill": {
     "duration": 0.026861,
     "end_time": "2023-06-23T18:24:46.705588",
     "exception": false,
     "start_time": "2023-06-23T18:24:46.678727",
     "status": "completed"
    },
    "tags": []
   },
   "outputs": [
    {
     "data": {
      "text/plain": [
       "8"
      ]
     },
     "execution_count": 31,
     "metadata": {},
     "output_type": "execute_result"
    }
   ],
   "source": [
    "a2[2][2]"
   ]
  },
  {
   "cell_type": "code",
   "execution_count": 32,
   "id": "ca8f7edc",
   "metadata": {
    "execution": {
     "iopub.execute_input": "2023-06-23T18:24:46.744335Z",
     "iopub.status.busy": "2023-06-23T18:24:46.743288Z",
     "iopub.status.idle": "2023-06-23T18:24:46.749768Z",
     "shell.execute_reply": "2023-06-23T18:24:46.748994Z"
    },
    "papermill": {
     "duration": 0.027598,
     "end_time": "2023-06-23T18:24:46.751741",
     "exception": false,
     "start_time": "2023-06-23T18:24:46.724143",
     "status": "completed"
    },
    "tags": []
   },
   "outputs": [
    {
     "data": {
      "text/plain": [
       "5"
      ]
     },
     "execution_count": 32,
     "metadata": {},
     "output_type": "execute_result"
    }
   ],
   "source": [
    "a2[1,1]"
   ]
  },
  {
   "cell_type": "code",
   "execution_count": 33,
   "id": "fdc01def",
   "metadata": {
    "execution": {
     "iopub.execute_input": "2023-06-23T18:24:46.789959Z",
     "iopub.status.busy": "2023-06-23T18:24:46.789337Z",
     "iopub.status.idle": "2023-06-23T18:24:46.793491Z",
     "shell.execute_reply": "2023-06-23T18:24:46.792716Z"
    },
    "papermill": {
     "duration": 0.02544,
     "end_time": "2023-06-23T18:24:46.795461",
     "exception": false,
     "start_time": "2023-06-23T18:24:46.770021",
     "status": "completed"
    },
    "tags": []
   },
   "outputs": [],
   "source": [
    "a3 = np.random.randint(1, 10, size = (2, 3, 3))"
   ]
  },
  {
   "cell_type": "code",
   "execution_count": 34,
   "id": "70408b2b",
   "metadata": {
    "execution": {
     "iopub.execute_input": "2023-06-23T18:24:46.834223Z",
     "iopub.status.busy": "2023-06-23T18:24:46.833601Z",
     "iopub.status.idle": "2023-06-23T18:24:46.839041Z",
     "shell.execute_reply": "2023-06-23T18:24:46.838114Z"
    },
    "papermill": {
     "duration": 0.027443,
     "end_time": "2023-06-23T18:24:46.841094",
     "exception": false,
     "start_time": "2023-06-23T18:24:46.813651",
     "status": "completed"
    },
    "tags": []
   },
   "outputs": [
    {
     "data": {
      "text/plain": [
       "array([[[6, 8, 4],\n",
       "        [1, 6, 4],\n",
       "        [8, 4, 9]],\n",
       "\n",
       "       [[4, 4, 8],\n",
       "        [8, 7, 2],\n",
       "        [5, 4, 1]]])"
      ]
     },
     "execution_count": 34,
     "metadata": {},
     "output_type": "execute_result"
    }
   ],
   "source": [
    "a3"
   ]
  },
  {
   "cell_type": "code",
   "execution_count": 35,
   "id": "9c22f81f",
   "metadata": {
    "execution": {
     "iopub.execute_input": "2023-06-23T18:24:46.880075Z",
     "iopub.status.busy": "2023-06-23T18:24:46.878997Z",
     "iopub.status.idle": "2023-06-23T18:24:46.885256Z",
     "shell.execute_reply": "2023-06-23T18:24:46.884515Z"
    },
    "papermill": {
     "duration": 0.027812,
     "end_time": "2023-06-23T18:24:46.887228",
     "exception": false,
     "start_time": "2023-06-23T18:24:46.859416",
     "status": "completed"
    },
    "tags": []
   },
   "outputs": [
    {
     "data": {
      "text/plain": [
       "4"
      ]
     },
     "execution_count": 35,
     "metadata": {},
     "output_type": "execute_result"
    }
   ],
   "source": [
    "a3[0][1][2]"
   ]
  },
  {
   "cell_type": "markdown",
   "id": "a95a6dec",
   "metadata": {
    "papermill": {
     "duration": 0.018099,
     "end_time": "2023-06-23T18:24:46.923886",
     "exception": false,
     "start_time": "2023-06-23T18:24:46.905787",
     "status": "completed"
    },
    "tags": []
   },
   "source": [
    "**Slicing**\n",
    "\n",
    "Slicing: Extract a portion of an array by specifying start, end, and step size, similar to regular Python lists."
   ]
  },
  {
   "cell_type": "code",
   "execution_count": 36,
   "id": "adb318c0",
   "metadata": {
    "execution": {
     "iopub.execute_input": "2023-06-23T18:24:46.962332Z",
     "iopub.status.busy": "2023-06-23T18:24:46.961893Z",
     "iopub.status.idle": "2023-06-23T18:24:46.968426Z",
     "shell.execute_reply": "2023-06-23T18:24:46.967435Z"
    },
    "papermill": {
     "duration": 0.028259,
     "end_time": "2023-06-23T18:24:46.970731",
     "exception": false,
     "start_time": "2023-06-23T18:24:46.942472",
     "status": "completed"
    },
    "tags": []
   },
   "outputs": [
    {
     "data": {
      "text/plain": [
       "array([1, 2, 3, 4, 5, 6])"
      ]
     },
     "execution_count": 36,
     "metadata": {},
     "output_type": "execute_result"
    }
   ],
   "source": [
    "a"
   ]
  },
  {
   "cell_type": "code",
   "execution_count": 37,
   "id": "aaa35dc3",
   "metadata": {
    "execution": {
     "iopub.execute_input": "2023-06-23T18:24:47.011204Z",
     "iopub.status.busy": "2023-06-23T18:24:47.010398Z",
     "iopub.status.idle": "2023-06-23T18:24:47.017427Z",
     "shell.execute_reply": "2023-06-23T18:24:47.016528Z"
    },
    "papermill": {
     "duration": 0.029597,
     "end_time": "2023-06-23T18:24:47.019663",
     "exception": false,
     "start_time": "2023-06-23T18:24:46.990066",
     "status": "completed"
    },
    "tags": []
   },
   "outputs": [
    {
     "data": {
      "text/plain": [
       "array([1, 2, 3])"
      ]
     },
     "execution_count": 37,
     "metadata": {},
     "output_type": "execute_result"
    }
   ],
   "source": [
    "a[0:3]"
   ]
  },
  {
   "cell_type": "code",
   "execution_count": 38,
   "id": "ec143dde",
   "metadata": {
    "execution": {
     "iopub.execute_input": "2023-06-23T18:24:47.060310Z",
     "iopub.status.busy": "2023-06-23T18:24:47.059543Z",
     "iopub.status.idle": "2023-06-23T18:24:47.066388Z",
     "shell.execute_reply": "2023-06-23T18:24:47.065546Z"
    },
    "papermill": {
     "duration": 0.030063,
     "end_time": "2023-06-23T18:24:47.068640",
     "exception": false,
     "start_time": "2023-06-23T18:24:47.038577",
     "status": "completed"
    },
    "tags": []
   },
   "outputs": [
    {
     "data": {
      "text/plain": [
       "array([1, 2, 3, 4])"
      ]
     },
     "execution_count": 38,
     "metadata": {},
     "output_type": "execute_result"
    }
   ],
   "source": [
    "a[:4]"
   ]
  },
  {
   "cell_type": "code",
   "execution_count": 39,
   "id": "1ae697cd",
   "metadata": {
    "execution": {
     "iopub.execute_input": "2023-06-23T18:24:47.108733Z",
     "iopub.status.busy": "2023-06-23T18:24:47.107971Z",
     "iopub.status.idle": "2023-06-23T18:24:47.114758Z",
     "shell.execute_reply": "2023-06-23T18:24:47.113912Z"
    },
    "papermill": {
     "duration": 0.029269,
     "end_time": "2023-06-23T18:24:47.116842",
     "exception": false,
     "start_time": "2023-06-23T18:24:47.087573",
     "status": "completed"
    },
    "tags": []
   },
   "outputs": [
    {
     "data": {
      "text/plain": [
       "array([3, 4, 5, 6])"
      ]
     },
     "execution_count": 39,
     "metadata": {},
     "output_type": "execute_result"
    }
   ],
   "source": [
    "a[2:]"
   ]
  },
  {
   "cell_type": "markdown",
   "id": "e627766a",
   "metadata": {
    "papermill": {
     "duration": 0.01956,
     "end_time": "2023-06-23T18:24:47.155691",
     "exception": false,
     "start_time": "2023-06-23T18:24:47.136131",
     "status": "completed"
    },
    "tags": []
   },
   "source": [
    "# Manipulating array shapes \n",
    "* reshape()\n",
    "* resize()\n",
    "* flatten()\n",
    "* revel()\n",
    "* defining array shape\n"
   ]
  },
  {
   "cell_type": "markdown",
   "id": "7b6b72bd",
   "metadata": {
    "papermill": {
     "duration": 0.018418,
     "end_time": "2023-06-23T18:24:47.192941",
     "exception": false,
     "start_time": "2023-06-23T18:24:47.174523",
     "status": "completed"
    },
    "tags": []
   },
   "source": [
    "**Reshape()**"
   ]
  },
  {
   "cell_type": "code",
   "execution_count": 40,
   "id": "72e6a073",
   "metadata": {
    "execution": {
     "iopub.execute_input": "2023-06-23T18:24:47.234349Z",
     "iopub.status.busy": "2023-06-23T18:24:47.233955Z",
     "iopub.status.idle": "2023-06-23T18:24:47.238365Z",
     "shell.execute_reply": "2023-06-23T18:24:47.237621Z"
    },
    "papermill": {
     "duration": 0.028076,
     "end_time": "2023-06-23T18:24:47.240189",
     "exception": false,
     "start_time": "2023-06-23T18:24:47.212113",
     "status": "completed"
    },
    "tags": []
   },
   "outputs": [],
   "source": [
    "a = np.array([[1, 2, 3],\n",
    "            [4, 5, 6]])"
   ]
  },
  {
   "cell_type": "code",
   "execution_count": 41,
   "id": "481b9aa4",
   "metadata": {
    "execution": {
     "iopub.execute_input": "2023-06-23T18:24:47.279498Z",
     "iopub.status.busy": "2023-06-23T18:24:47.279098Z",
     "iopub.status.idle": "2023-06-23T18:24:47.285506Z",
     "shell.execute_reply": "2023-06-23T18:24:47.284526Z"
    },
    "papermill": {
     "duration": 0.028465,
     "end_time": "2023-06-23T18:24:47.287539",
     "exception": false,
     "start_time": "2023-06-23T18:24:47.259074",
     "status": "completed"
    },
    "tags": []
   },
   "outputs": [
    {
     "data": {
      "text/plain": [
       "array([[1, 2, 3],\n",
       "       [4, 5, 6]])"
      ]
     },
     "execution_count": 41,
     "metadata": {},
     "output_type": "execute_result"
    }
   ],
   "source": [
    "a"
   ]
  },
  {
   "cell_type": "code",
   "execution_count": 42,
   "id": "2fe560a6",
   "metadata": {
    "execution": {
     "iopub.execute_input": "2023-06-23T18:24:47.327898Z",
     "iopub.status.busy": "2023-06-23T18:24:47.326908Z",
     "iopub.status.idle": "2023-06-23T18:24:47.333559Z",
     "shell.execute_reply": "2023-06-23T18:24:47.332458Z"
    },
    "papermill": {
     "duration": 0.029297,
     "end_time": "2023-06-23T18:24:47.335621",
     "exception": false,
     "start_time": "2023-06-23T18:24:47.306324",
     "status": "completed"
    },
    "tags": []
   },
   "outputs": [
    {
     "data": {
      "text/plain": [
       "(2, 3)"
      ]
     },
     "execution_count": 42,
     "metadata": {},
     "output_type": "execute_result"
    }
   ],
   "source": [
    "a.shape"
   ]
  },
  {
   "cell_type": "code",
   "execution_count": 43,
   "id": "f8f3f61b",
   "metadata": {
    "execution": {
     "iopub.execute_input": "2023-06-23T18:24:47.375764Z",
     "iopub.status.busy": "2023-06-23T18:24:47.374715Z",
     "iopub.status.idle": "2023-06-23T18:24:47.379700Z",
     "shell.execute_reply": "2023-06-23T18:24:47.378957Z"
    },
    "papermill": {
     "duration": 0.027295,
     "end_time": "2023-06-23T18:24:47.381854",
     "exception": false,
     "start_time": "2023-06-23T18:24:47.354559",
     "status": "completed"
    },
    "tags": []
   },
   "outputs": [],
   "source": [
    "a_reshaped = np.reshape(a, (3, 2)) # Gives a new shape to an array without changing its data."
   ]
  },
  {
   "cell_type": "code",
   "execution_count": 44,
   "id": "c05d684f",
   "metadata": {
    "execution": {
     "iopub.execute_input": "2023-06-23T18:24:47.421716Z",
     "iopub.status.busy": "2023-06-23T18:24:47.420958Z",
     "iopub.status.idle": "2023-06-23T18:24:47.427350Z",
     "shell.execute_reply": "2023-06-23T18:24:47.426582Z"
    },
    "papermill": {
     "duration": 0.02886,
     "end_time": "2023-06-23T18:24:47.429517",
     "exception": false,
     "start_time": "2023-06-23T18:24:47.400657",
     "status": "completed"
    },
    "tags": []
   },
   "outputs": [
    {
     "data": {
      "text/plain": [
       "array([[1, 2],\n",
       "       [3, 4],\n",
       "       [5, 6]])"
      ]
     },
     "execution_count": 44,
     "metadata": {},
     "output_type": "execute_result"
    }
   ],
   "source": [
    "a_reshaped"
   ]
  },
  {
   "cell_type": "markdown",
   "id": "a39af6a7",
   "metadata": {
    "papermill": {
     "duration": 0.019076,
     "end_time": "2023-06-23T18:24:47.468170",
     "exception": false,
     "start_time": "2023-06-23T18:24:47.449094",
     "status": "completed"
    },
    "tags": []
   },
   "source": [
    "**resize()**"
   ]
  },
  {
   "cell_type": "code",
   "execution_count": 45,
   "id": "5d384752",
   "metadata": {
    "execution": {
     "iopub.execute_input": "2023-06-23T18:24:47.508230Z",
     "iopub.status.busy": "2023-06-23T18:24:47.507870Z",
     "iopub.status.idle": "2023-06-23T18:24:47.513897Z",
     "shell.execute_reply": "2023-06-23T18:24:47.512773Z"
    },
    "papermill": {
     "duration": 0.02866,
     "end_time": "2023-06-23T18:24:47.516146",
     "exception": false,
     "start_time": "2023-06-23T18:24:47.487486",
     "status": "completed"
    },
    "tags": []
   },
   "outputs": [
    {
     "data": {
      "text/plain": [
       "array([[1, 2, 3],\n",
       "       [4, 5, 6]])"
      ]
     },
     "execution_count": 45,
     "metadata": {},
     "output_type": "execute_result"
    }
   ],
   "source": [
    "a"
   ]
  },
  {
   "cell_type": "code",
   "execution_count": 46,
   "id": "2daebaaf",
   "metadata": {
    "execution": {
     "iopub.execute_input": "2023-06-23T18:24:47.556655Z",
     "iopub.status.busy": "2023-06-23T18:24:47.556258Z",
     "iopub.status.idle": "2023-06-23T18:24:47.560776Z",
     "shell.execute_reply": "2023-06-23T18:24:47.559537Z"
    },
    "papermill": {
     "duration": 0.027737,
     "end_time": "2023-06-23T18:24:47.563161",
     "exception": false,
     "start_time": "2023-06-23T18:24:47.535424",
     "status": "completed"
    },
    "tags": []
   },
   "outputs": [],
   "source": [
    "a_resized = np.resize(a, (4, 3)) # Return a new array with the specified shape."
   ]
  },
  {
   "cell_type": "code",
   "execution_count": 47,
   "id": "3e92b7cc",
   "metadata": {
    "execution": {
     "iopub.execute_input": "2023-06-23T18:24:47.603666Z",
     "iopub.status.busy": "2023-06-23T18:24:47.603016Z",
     "iopub.status.idle": "2023-06-23T18:24:47.608150Z",
     "shell.execute_reply": "2023-06-23T18:24:47.607496Z"
    },
    "papermill": {
     "duration": 0.027603,
     "end_time": "2023-06-23T18:24:47.610079",
     "exception": false,
     "start_time": "2023-06-23T18:24:47.582476",
     "status": "completed"
    },
    "tags": []
   },
   "outputs": [
    {
     "data": {
      "text/plain": [
       "array([[1, 2, 3],\n",
       "       [4, 5, 6],\n",
       "       [1, 2, 3],\n",
       "       [4, 5, 6]])"
      ]
     },
     "execution_count": 47,
     "metadata": {},
     "output_type": "execute_result"
    }
   ],
   "source": [
    "a_resized"
   ]
  },
  {
   "cell_type": "markdown",
   "id": "5715567e",
   "metadata": {
    "papermill": {
     "duration": 0.019789,
     "end_time": "2023-06-23T18:24:47.649481",
     "exception": false,
     "start_time": "2023-06-23T18:24:47.629692",
     "status": "completed"
    },
    "tags": []
   },
   "source": [
    "**ravel()**"
   ]
  },
  {
   "cell_type": "code",
   "execution_count": 48,
   "id": "4aba705f",
   "metadata": {
    "execution": {
     "iopub.execute_input": "2023-06-23T18:24:47.690645Z",
     "iopub.status.busy": "2023-06-23T18:24:47.689563Z",
     "iopub.status.idle": "2023-06-23T18:24:47.694174Z",
     "shell.execute_reply": "2023-06-23T18:24:47.693419Z"
    },
    "papermill": {
     "duration": 0.027337,
     "end_time": "2023-06-23T18:24:47.696190",
     "exception": false,
     "start_time": "2023-06-23T18:24:47.668853",
     "status": "completed"
    },
    "tags": []
   },
   "outputs": [],
   "source": [
    "a = np.random.randint(1, 10, (2, 3)) # Return a view of the array"
   ]
  },
  {
   "cell_type": "code",
   "execution_count": 49,
   "id": "3e239f54",
   "metadata": {
    "execution": {
     "iopub.execute_input": "2023-06-23T18:24:47.737232Z",
     "iopub.status.busy": "2023-06-23T18:24:47.736562Z",
     "iopub.status.idle": "2023-06-23T18:24:47.743423Z",
     "shell.execute_reply": "2023-06-23T18:24:47.742509Z"
    },
    "papermill": {
     "duration": 0.029899,
     "end_time": "2023-06-23T18:24:47.745478",
     "exception": false,
     "start_time": "2023-06-23T18:24:47.715579",
     "status": "completed"
    },
    "tags": []
   },
   "outputs": [
    {
     "data": {
      "text/plain": [
       "array([[8, 4, 2],\n",
       "       [7, 7, 5]])"
      ]
     },
     "execution_count": 49,
     "metadata": {},
     "output_type": "execute_result"
    }
   ],
   "source": [
    "a"
   ]
  },
  {
   "cell_type": "code",
   "execution_count": 50,
   "id": "b49f485d",
   "metadata": {
    "execution": {
     "iopub.execute_input": "2023-06-23T18:24:47.786319Z",
     "iopub.status.busy": "2023-06-23T18:24:47.785925Z",
     "iopub.status.idle": "2023-06-23T18:24:47.790464Z",
     "shell.execute_reply": "2023-06-23T18:24:47.789308Z"
    },
    "papermill": {
     "duration": 0.027458,
     "end_time": "2023-06-23T18:24:47.792458",
     "exception": false,
     "start_time": "2023-06-23T18:24:47.765000",
     "status": "completed"
    },
    "tags": []
   },
   "outputs": [],
   "source": [
    "a_raveled = np.ravel(a)"
   ]
  },
  {
   "cell_type": "code",
   "execution_count": 51,
   "id": "bc4ceea3",
   "metadata": {
    "execution": {
     "iopub.execute_input": "2023-06-23T18:24:47.833764Z",
     "iopub.status.busy": "2023-06-23T18:24:47.832629Z",
     "iopub.status.idle": "2023-06-23T18:24:47.838434Z",
     "shell.execute_reply": "2023-06-23T18:24:47.837713Z"
    },
    "papermill": {
     "duration": 0.028087,
     "end_time": "2023-06-23T18:24:47.840279",
     "exception": false,
     "start_time": "2023-06-23T18:24:47.812192",
     "status": "completed"
    },
    "tags": []
   },
   "outputs": [
    {
     "data": {
      "text/plain": [
       "array([8, 4, 2, 7, 7, 5])"
      ]
     },
     "execution_count": 51,
     "metadata": {},
     "output_type": "execute_result"
    }
   ],
   "source": [
    "a_raveled"
   ]
  },
  {
   "cell_type": "code",
   "execution_count": 52,
   "id": "b1ec308a",
   "metadata": {
    "execution": {
     "iopub.execute_input": "2023-06-23T18:24:47.881288Z",
     "iopub.status.busy": "2023-06-23T18:24:47.880349Z",
     "iopub.status.idle": "2023-06-23T18:24:47.886940Z",
     "shell.execute_reply": "2023-06-23T18:24:47.886004Z"
    },
    "papermill": {
     "duration": 0.029223,
     "end_time": "2023-06-23T18:24:47.888972",
     "exception": false,
     "start_time": "2023-06-23T18:24:47.859749",
     "status": "completed"
    },
    "tags": []
   },
   "outputs": [
    {
     "data": {
      "text/plain": [
       "(6,)"
      ]
     },
     "execution_count": 52,
     "metadata": {},
     "output_type": "execute_result"
    }
   ],
   "source": [
    "a_raveled.shape"
   ]
  },
  {
   "cell_type": "markdown",
   "id": "8371ee02",
   "metadata": {
    "papermill": {
     "duration": 0.019144,
     "end_time": "2023-06-23T18:24:47.927909",
     "exception": false,
     "start_time": "2023-06-23T18:24:47.908765",
     "status": "completed"
    },
    "tags": []
   },
   "source": [
    "**flatten()**"
   ]
  },
  {
   "cell_type": "code",
   "execution_count": 53,
   "id": "8a27ade9",
   "metadata": {
    "execution": {
     "iopub.execute_input": "2023-06-23T18:24:47.968369Z",
     "iopub.status.busy": "2023-06-23T18:24:47.967991Z",
     "iopub.status.idle": "2023-06-23T18:24:47.974272Z",
     "shell.execute_reply": "2023-06-23T18:24:47.973418Z"
    },
    "papermill": {
     "duration": 0.029245,
     "end_time": "2023-06-23T18:24:47.976515",
     "exception": false,
     "start_time": "2023-06-23T18:24:47.947270",
     "status": "completed"
    },
    "tags": []
   },
   "outputs": [
    {
     "data": {
      "text/plain": [
       "array([[8, 4, 2],\n",
       "       [7, 7, 5]])"
      ]
     },
     "execution_count": 53,
     "metadata": {},
     "output_type": "execute_result"
    }
   ],
   "source": [
    "a"
   ]
  },
  {
   "cell_type": "code",
   "execution_count": 54,
   "id": "71aadf7c",
   "metadata": {
    "execution": {
     "iopub.execute_input": "2023-06-23T18:24:48.017311Z",
     "iopub.status.busy": "2023-06-23T18:24:48.016908Z",
     "iopub.status.idle": "2023-06-23T18:24:48.021476Z",
     "shell.execute_reply": "2023-06-23T18:24:48.020495Z"
    },
    "papermill": {
     "duration": 0.02733,
     "end_time": "2023-06-23T18:24:48.023489",
     "exception": false,
     "start_time": "2023-06-23T18:24:47.996159",
     "status": "completed"
    },
    "tags": []
   },
   "outputs": [],
   "source": [
    "a_flattened = a.flatten() # Return a copy of the array, always allocates a new memory. "
   ]
  },
  {
   "cell_type": "code",
   "execution_count": 55,
   "id": "e5e6ed11",
   "metadata": {
    "execution": {
     "iopub.execute_input": "2023-06-23T18:24:48.064617Z",
     "iopub.status.busy": "2023-06-23T18:24:48.064176Z",
     "iopub.status.idle": "2023-06-23T18:24:48.070885Z",
     "shell.execute_reply": "2023-06-23T18:24:48.069875Z"
    },
    "papermill": {
     "duration": 0.029444,
     "end_time": "2023-06-23T18:24:48.072917",
     "exception": false,
     "start_time": "2023-06-23T18:24:48.043473",
     "status": "completed"
    },
    "tags": []
   },
   "outputs": [
    {
     "data": {
      "text/plain": [
       "array([8, 4, 2, 7, 7, 5])"
      ]
     },
     "execution_count": 55,
     "metadata": {},
     "output_type": "execute_result"
    }
   ],
   "source": [
    "a_flattened"
   ]
  },
  {
   "cell_type": "code",
   "execution_count": 56,
   "id": "c6eff661",
   "metadata": {
    "execution": {
     "iopub.execute_input": "2023-06-23T18:24:48.114111Z",
     "iopub.status.busy": "2023-06-23T18:24:48.113731Z",
     "iopub.status.idle": "2023-06-23T18:24:48.117955Z",
     "shell.execute_reply": "2023-06-23T18:24:48.117233Z"
    },
    "papermill": {
     "duration": 0.027031,
     "end_time": "2023-06-23T18:24:48.119780",
     "exception": false,
     "start_time": "2023-06-23T18:24:48.092749",
     "status": "completed"
    },
    "tags": []
   },
   "outputs": [],
   "source": [
    "a_flattened[0] = 1"
   ]
  },
  {
   "cell_type": "code",
   "execution_count": 57,
   "id": "63db5df6",
   "metadata": {
    "execution": {
     "iopub.execute_input": "2023-06-23T18:24:48.160135Z",
     "iopub.status.busy": "2023-06-23T18:24:48.159767Z",
     "iopub.status.idle": "2023-06-23T18:24:48.165733Z",
     "shell.execute_reply": "2023-06-23T18:24:48.164699Z"
    },
    "papermill": {
     "duration": 0.028253,
     "end_time": "2023-06-23T18:24:48.167581",
     "exception": false,
     "start_time": "2023-06-23T18:24:48.139328",
     "status": "completed"
    },
    "tags": []
   },
   "outputs": [
    {
     "data": {
      "text/plain": [
       "array([1, 4, 2, 7, 7, 5])"
      ]
     },
     "execution_count": 57,
     "metadata": {},
     "output_type": "execute_result"
    }
   ],
   "source": [
    "a_flattened"
   ]
  },
  {
   "cell_type": "markdown",
   "id": "49531ea2",
   "metadata": {
    "papermill": {
     "duration": 0.01958,
     "end_time": "2023-06-23T18:24:48.207358",
     "exception": false,
     "start_time": "2023-06-23T18:24:48.187778",
     "status": "completed"
    },
    "tags": []
   },
   "source": [
    "**Defining an array shape**"
   ]
  },
  {
   "cell_type": "code",
   "execution_count": 58,
   "id": "989ed408",
   "metadata": {
    "execution": {
     "iopub.execute_input": "2023-06-23T18:24:48.250199Z",
     "iopub.status.busy": "2023-06-23T18:24:48.249829Z",
     "iopub.status.idle": "2023-06-23T18:24:48.255404Z",
     "shell.execute_reply": "2023-06-23T18:24:48.254680Z"
    },
    "papermill": {
     "duration": 0.029355,
     "end_time": "2023-06-23T18:24:48.257215",
     "exception": false,
     "start_time": "2023-06-23T18:24:48.227860",
     "status": "completed"
    },
    "tags": []
   },
   "outputs": [
    {
     "data": {
      "text/plain": [
       "array([[8, 4, 2],\n",
       "       [7, 7, 5]])"
      ]
     },
     "execution_count": 58,
     "metadata": {},
     "output_type": "execute_result"
    }
   ],
   "source": [
    "a"
   ]
  },
  {
   "cell_type": "code",
   "execution_count": 59,
   "id": "aecf5dbb",
   "metadata": {
    "execution": {
     "iopub.execute_input": "2023-06-23T18:24:48.298178Z",
     "iopub.status.busy": "2023-06-23T18:24:48.297809Z",
     "iopub.status.idle": "2023-06-23T18:24:48.302297Z",
     "shell.execute_reply": "2023-06-23T18:24:48.301258Z"
    },
    "papermill": {
     "duration": 0.027117,
     "end_time": "2023-06-23T18:24:48.304092",
     "exception": false,
     "start_time": "2023-06-23T18:24:48.276975",
     "status": "completed"
    },
    "tags": []
   },
   "outputs": [],
   "source": [
    "a.shape = (3, 2)"
   ]
  },
  {
   "cell_type": "code",
   "execution_count": 60,
   "id": "4812f7a7",
   "metadata": {
    "execution": {
     "iopub.execute_input": "2023-06-23T18:24:48.344846Z",
     "iopub.status.busy": "2023-06-23T18:24:48.344437Z",
     "iopub.status.idle": "2023-06-23T18:24:48.350635Z",
     "shell.execute_reply": "2023-06-23T18:24:48.349685Z"
    },
    "papermill": {
     "duration": 0.029309,
     "end_time": "2023-06-23T18:24:48.353006",
     "exception": false,
     "start_time": "2023-06-23T18:24:48.323697",
     "status": "completed"
    },
    "tags": []
   },
   "outputs": [
    {
     "data": {
      "text/plain": [
       "array([[8, 4],\n",
       "       [2, 7],\n",
       "       [7, 5]])"
      ]
     },
     "execution_count": 60,
     "metadata": {},
     "output_type": "execute_result"
    }
   ],
   "source": [
    "a"
   ]
  },
  {
   "cell_type": "markdown",
   "id": "aaf4dbb7",
   "metadata": {
    "papermill": {
     "duration": 0.019948,
     "end_time": "2023-06-23T18:24:48.393254",
     "exception": false,
     "start_time": "2023-06-23T18:24:48.373306",
     "status": "completed"
    },
    "tags": []
   },
   "source": [
    "# Stacking"
   ]
  },
  {
   "cell_type": "code",
   "execution_count": 61,
   "id": "df43bbaa",
   "metadata": {
    "execution": {
     "iopub.execute_input": "2023-06-23T18:24:48.435122Z",
     "iopub.status.busy": "2023-06-23T18:24:48.434735Z",
     "iopub.status.idle": "2023-06-23T18:24:48.438979Z",
     "shell.execute_reply": "2023-06-23T18:24:48.438237Z"
    },
    "papermill": {
     "duration": 0.027312,
     "end_time": "2023-06-23T18:24:48.440777",
     "exception": false,
     "start_time": "2023-06-23T18:24:48.413465",
     "status": "completed"
    },
    "tags": []
   },
   "outputs": [],
   "source": [
    "b = 2*a"
   ]
  },
  {
   "cell_type": "code",
   "execution_count": 62,
   "id": "65dc4635",
   "metadata": {
    "execution": {
     "iopub.execute_input": "2023-06-23T18:24:48.482726Z",
     "iopub.status.busy": "2023-06-23T18:24:48.482340Z",
     "iopub.status.idle": "2023-06-23T18:24:48.487615Z",
     "shell.execute_reply": "2023-06-23T18:24:48.486911Z"
    },
    "papermill": {
     "duration": 0.028438,
     "end_time": "2023-06-23T18:24:48.489397",
     "exception": false,
     "start_time": "2023-06-23T18:24:48.460959",
     "status": "completed"
    },
    "tags": []
   },
   "outputs": [
    {
     "data": {
      "text/plain": [
       "array([[16,  8],\n",
       "       [ 4, 14],\n",
       "       [14, 10]])"
      ]
     },
     "execution_count": 62,
     "metadata": {},
     "output_type": "execute_result"
    }
   ],
   "source": [
    "b"
   ]
  },
  {
   "cell_type": "code",
   "execution_count": 63,
   "id": "ddae5487",
   "metadata": {
    "execution": {
     "iopub.execute_input": "2023-06-23T18:24:48.532529Z",
     "iopub.status.busy": "2023-06-23T18:24:48.532103Z",
     "iopub.status.idle": "2023-06-23T18:24:48.539267Z",
     "shell.execute_reply": "2023-06-23T18:24:48.538290Z"
    },
    "papermill": {
     "duration": 0.031025,
     "end_time": "2023-06-23T18:24:48.541327",
     "exception": false,
     "start_time": "2023-06-23T18:24:48.510302",
     "status": "completed"
    },
    "tags": []
   },
   "outputs": [
    {
     "data": {
      "text/plain": [
       "array([[ 8,  4, 16,  8],\n",
       "       [ 2,  7,  4, 14],\n",
       "       [ 7,  5, 14, 10]])"
      ]
     },
     "execution_count": 63,
     "metadata": {},
     "output_type": "execute_result"
    }
   ],
   "source": [
    "np.hstack((a, b))"
   ]
  },
  {
   "cell_type": "code",
   "execution_count": 64,
   "id": "156eb109",
   "metadata": {
    "execution": {
     "iopub.execute_input": "2023-06-23T18:24:48.583708Z",
     "iopub.status.busy": "2023-06-23T18:24:48.583315Z",
     "iopub.status.idle": "2023-06-23T18:24:48.589179Z",
     "shell.execute_reply": "2023-06-23T18:24:48.588503Z"
    },
    "papermill": {
     "duration": 0.02947,
     "end_time": "2023-06-23T18:24:48.591212",
     "exception": false,
     "start_time": "2023-06-23T18:24:48.561742",
     "status": "completed"
    },
    "tags": []
   },
   "outputs": [
    {
     "data": {
      "text/plain": [
       "array([[ 8,  4, 16,  8],\n",
       "       [ 2,  7,  4, 14],\n",
       "       [ 7,  5, 14, 10]])"
      ]
     },
     "execution_count": 64,
     "metadata": {},
     "output_type": "execute_result"
    }
   ],
   "source": [
    "np.column_stack((a, b))"
   ]
  },
  {
   "cell_type": "code",
   "execution_count": 65,
   "id": "a9919083",
   "metadata": {
    "execution": {
     "iopub.execute_input": "2023-06-23T18:24:48.633682Z",
     "iopub.status.busy": "2023-06-23T18:24:48.633290Z",
     "iopub.status.idle": "2023-06-23T18:24:48.639656Z",
     "shell.execute_reply": "2023-06-23T18:24:48.638747Z"
    },
    "papermill": {
     "duration": 0.029795,
     "end_time": "2023-06-23T18:24:48.641568",
     "exception": false,
     "start_time": "2023-06-23T18:24:48.611773",
     "status": "completed"
    },
    "tags": []
   },
   "outputs": [
    {
     "data": {
      "text/plain": [
       "array([[ 8,  4, 16,  8],\n",
       "       [ 2,  7,  4, 14],\n",
       "       [ 7,  5, 14, 10]])"
      ]
     },
     "execution_count": 65,
     "metadata": {},
     "output_type": "execute_result"
    }
   ],
   "source": [
    "np.concatenate((a, b), axis = 1)"
   ]
  },
  {
   "cell_type": "markdown",
   "id": "995b1dd5",
   "metadata": {
    "papermill": {
     "duration": 0.020421,
     "end_time": "2023-06-23T18:24:48.682320",
     "exception": false,
     "start_time": "2023-06-23T18:24:48.661899",
     "status": "completed"
    },
    "tags": []
   },
   "source": [
    "**Vertical Stacking**"
   ]
  },
  {
   "cell_type": "code",
   "execution_count": 66,
   "id": "b7001d3a",
   "metadata": {
    "execution": {
     "iopub.execute_input": "2023-06-23T18:24:48.724616Z",
     "iopub.status.busy": "2023-06-23T18:24:48.724242Z",
     "iopub.status.idle": "2023-06-23T18:24:48.730474Z",
     "shell.execute_reply": "2023-06-23T18:24:48.729614Z"
    },
    "papermill": {
     "duration": 0.029811,
     "end_time": "2023-06-23T18:24:48.732413",
     "exception": false,
     "start_time": "2023-06-23T18:24:48.702602",
     "status": "completed"
    },
    "tags": []
   },
   "outputs": [
    {
     "data": {
      "text/plain": [
       "array([[ 8,  4],\n",
       "       [ 2,  7],\n",
       "       [ 7,  5],\n",
       "       [16,  8],\n",
       "       [ 4, 14],\n",
       "       [14, 10]])"
      ]
     },
     "execution_count": 66,
     "metadata": {},
     "output_type": "execute_result"
    }
   ],
   "source": [
    "np.vstack((a, b))"
   ]
  },
  {
   "cell_type": "code",
   "execution_count": 67,
   "id": "b3d60ed6",
   "metadata": {
    "execution": {
     "iopub.execute_input": "2023-06-23T18:24:48.776537Z",
     "iopub.status.busy": "2023-06-23T18:24:48.776111Z",
     "iopub.status.idle": "2023-06-23T18:24:48.783291Z",
     "shell.execute_reply": "2023-06-23T18:24:48.782325Z"
    },
    "papermill": {
     "duration": 0.03119,
     "end_time": "2023-06-23T18:24:48.785387",
     "exception": false,
     "start_time": "2023-06-23T18:24:48.754197",
     "status": "completed"
    },
    "tags": []
   },
   "outputs": [
    {
     "data": {
      "text/plain": [
       "array([[ 8,  4],\n",
       "       [ 2,  7],\n",
       "       [ 7,  5],\n",
       "       [16,  8],\n",
       "       [ 4, 14],\n",
       "       [14, 10]])"
      ]
     },
     "execution_count": 67,
     "metadata": {},
     "output_type": "execute_result"
    }
   ],
   "source": [
    "np.row_stack((a, b))"
   ]
  },
  {
   "cell_type": "code",
   "execution_count": 68,
   "id": "d601e470",
   "metadata": {
    "execution": {
     "iopub.execute_input": "2023-06-23T18:24:48.828266Z",
     "iopub.status.busy": "2023-06-23T18:24:48.827846Z",
     "iopub.status.idle": "2023-06-23T18:24:48.834613Z",
     "shell.execute_reply": "2023-06-23T18:24:48.833846Z"
    },
    "papermill": {
     "duration": 0.030303,
     "end_time": "2023-06-23T18:24:48.836499",
     "exception": false,
     "start_time": "2023-06-23T18:24:48.806196",
     "status": "completed"
    },
    "tags": []
   },
   "outputs": [
    {
     "data": {
      "text/plain": [
       "array([[ 8,  4],\n",
       "       [ 2,  7],\n",
       "       [ 7,  5],\n",
       "       [16,  8],\n",
       "       [ 4, 14],\n",
       "       [14, 10]])"
      ]
     },
     "execution_count": 68,
     "metadata": {},
     "output_type": "execute_result"
    }
   ],
   "source": [
    "np.concatenate((a, b), axis = 0)"
   ]
  },
  {
   "cell_type": "markdown",
   "id": "4a197ad0",
   "metadata": {
    "papermill": {
     "duration": 0.020494,
     "end_time": "2023-06-23T18:24:48.877926",
     "exception": false,
     "start_time": "2023-06-23T18:24:48.857432",
     "status": "completed"
    },
    "tags": []
   },
   "source": [
    "**Depth Stack**"
   ]
  },
  {
   "cell_type": "code",
   "execution_count": 69,
   "id": "9d852060",
   "metadata": {
    "execution": {
     "iopub.execute_input": "2023-06-23T18:24:48.920776Z",
     "iopub.status.busy": "2023-06-23T18:24:48.920360Z",
     "iopub.status.idle": "2023-06-23T18:24:48.926773Z",
     "shell.execute_reply": "2023-06-23T18:24:48.925944Z"
    },
    "papermill": {
     "duration": 0.030111,
     "end_time": "2023-06-23T18:24:48.928696",
     "exception": false,
     "start_time": "2023-06-23T18:24:48.898585",
     "status": "completed"
    },
    "tags": []
   },
   "outputs": [
    {
     "data": {
      "text/plain": [
       "array([[[ 8, 16],\n",
       "        [ 4,  8]],\n",
       "\n",
       "       [[ 2,  4],\n",
       "        [ 7, 14]],\n",
       "\n",
       "       [[ 7, 14],\n",
       "        [ 5, 10]]])"
      ]
     },
     "execution_count": 69,
     "metadata": {},
     "output_type": "execute_result"
    }
   ],
   "source": [
    "np.dstack((a, b))"
   ]
  }
 ],
 "metadata": {
  "kernelspec": {
   "display_name": "Python 3",
   "language": "python",
   "name": "python3"
  },
  "language_info": {
   "codemirror_mode": {
    "name": "ipython",
    "version": 3
   },
   "file_extension": ".py",
   "mimetype": "text/x-python",
   "name": "python",
   "nbconvert_exporter": "python",
   "pygments_lexer": "ipython3",
   "version": "3.10.10"
  },
  "papermill": {
   "default_parameters": {},
   "duration": 14.556058,
   "end_time": "2023-06-23T18:24:49.771079",
   "environment_variables": {},
   "exception": null,
   "input_path": "__notebook__.ipynb",
   "output_path": "__notebook__.ipynb",
   "parameters": {},
   "start_time": "2023-06-23T18:24:35.215021",
   "version": "2.4.0"
  }
 },
 "nbformat": 4,
 "nbformat_minor": 5
}
